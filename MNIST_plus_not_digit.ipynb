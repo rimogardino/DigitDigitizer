{
 "cells": [
  {
   "cell_type": "markdown",
   "metadata": {},
   "source": [
    "# Create a model that can classify Digits and separate other random input from the user"
   ]
  },
  {
   "cell_type": "code",
   "execution_count": 22,
   "metadata": {},
   "outputs": [],
   "source": [
    "import numpy as np\n",
    "import pandas as pd\n",
    "import matplotlib.pyplot as plt\n",
    "%matplotlib inline\n",
    "import tensorflow as tf\n",
    "\n",
    "np.random.seed(25)"
   ]
  },
  {
   "cell_type": "code",
   "execution_count": 23,
   "metadata": {},
   "outputs": [],
   "source": [
    "from tensorflow.keras.datasets import mnist\n",
    "from tensorflow.keras.models import Sequential\n",
    "from tensorflow.keras.layers import Dense, Dropout, Activation, Flatten\n",
    "from tensorflow.keras.optimizers import Adam\n",
    "from tensorflow.keras.layers import BatchNormalization\n",
    "from tensorflow.keras.utils import to_categorical\n",
    "from tensorflow.keras.layers import Conv2D, MaxPooling2D, ZeroPadding2D, GlobalAveragePooling2D\n",
    "from tensorflow.keras.layers import LeakyReLU \n",
    "from tensorflow.keras.preprocessing.image import ImageDataGenerator"
   ]
  },
  {
   "cell_type": "code",
   "execution_count": 52,
   "metadata": {},
   "outputs": [
    {
     "name": "stdout",
     "output_type": "stream",
     "text": [
      "X_train original shape (60000, 28, 28)\n",
      "y_train original shape (60000,)\n",
      "X_test original shape (10000, 28, 28)\n",
      "y_test original shape (10000,)\n"
     ]
    }
   ],
   "source": [
    "(X_train, y_train), (X_test, y_test) = mnist.load_data()\n",
    "print(\"X_train original shape\", X_train.shape)\n",
    "print(\"y_train original shape\", y_train.shape)\n",
    "print(\"X_test original shape\", X_test.shape)\n",
    "print(\"y_test original shape\", y_test.shape)"
   ]
  },
  {
   "cell_type": "code",
   "execution_count": 53,
   "metadata": {},
   "outputs": [
    {
     "data": {
      "text/plain": [
       "Text(0.5, 1.0, 'Class 7')"
      ]
     },
     "execution_count": 53,
     "metadata": {},
     "output_type": "execute_result"
    },
    {
     "data": {
      "image/png": "[encoded data removed]",
      "text/plain": [
       "<Figure size 432x288 with 1 Axes>"
      ]
     },
     "metadata": {
      "needs_background": "light"
     },
     "output_type": "display_data"
    }
   ],
   "source": [
    "plt.imshow(X_train[42])\n",
    "plt.title('Class '+ str(y_train[42]))"
   ]
  },
  {
   "cell_type": "markdown",
   "metadata": {},
   "source": [
    "## Create a new \"NOT digit\" class"
   ]
  },
  {
   "cell_type": "code",
   "execution_count": 54,
   "metadata": {},
   "outputs": [
    {
     "name": "stdout",
     "output_type": "stream",
     "text": [
      "(124800, 28, 28)\n"
     ]
    }
   ],
   "source": [
    "## Import letters from EMNIST\n",
    "import idx2numpy\n",
    "\n",
    "# Reading\n",
    "ndarr = idx2numpy.convert_from_file('/home/rimogardino/Programs/ML/Data/emnist-letters-train-images-idx3-ubyte')\n",
    "\n",
    "print(ndarr.shape)\n",
    "p = np.random.permutation(ndarr.shape[0])\n",
    "ndarr = ndarr[p]"
   ]
  },
  {
   "cell_type": "markdown",
   "metadata": {},
   "source": [
    "## Append some of the letter data to the NOT digit class"
   ]
  },
  {
   "cell_type": "code",
   "execution_count": 55,
   "metadata": {},
   "outputs": [
    {
     "data": {
      "text/plain": [
       "Text(0.5, 1.0, 'Class 10')"
      ]
     },
     "execution_count": 55,
     "metadata": {},
     "output_type": "execute_result"
    },
    {
     "data": {
      "image/png": "[encoded data removed]",
      "text/plain": [
       "<Figure size 432x288 with 1 Axes>"
      ]
     },
     "metadata": {
      "needs_background": "light"
     },
     "output_type": "display_data"
    }
   ],
   "source": [
    "n_letter_exmpls = 2000\n",
    "\n",
    "new_examples = ndarr[:n_letter_exmpls]\n",
    "new_labels = ['10' for lb in range(0,n_letter_exmpls)]\n",
    "\n",
    "X_train = np.append(X_train, new_examples, axis=0)\n",
    "y_train = np.append(y_train, new_labels, axis=0)\n",
    "\n",
    "\n",
    "plt.imshow(X_train[X_train.shape[0]-10])\n",
    "plt.title('Class '+ str(y_train[X_train.shape[0]-10]))"
   ]
  },
  {
   "cell_type": "markdown",
   "metadata": {},
   "source": [
    "## Create some noisy examples for the NOT digit class"
   ]
  },
  {
   "cell_type": "code",
   "execution_count": 51,
   "metadata": {},
   "outputs": [
    {
     "name": "stdout",
     "output_type": "stream",
     "text": [
      "shape before\n",
      "(64000, 28, 28)\n",
      "(64000,)\n",
      "\n",
      "shape after\n",
      "(68000, 28, 28)\n",
      "(68000,)\n"
     ]
    },
    {
     "data": {
      "text/plain": [
       "Text(0.5, 1.0, 'Class 10')"
      ]
     },
     "execution_count": 51,
     "metadata": {},
     "output_type": "execute_result"
    },
    {
     "data": {
      "image/png": "[encoded data removed]",
      "text/plain": [
       "<Figure size 432x288 with 1 Axes>"
      ]
     },
     "metadata": {
      "needs_background": "light"
     },
     "output_type": "display_data"
    }
   ],
   "source": [
    "import random\n",
    "print(\"shape before\")\n",
    "print(X_train.shape)\n",
    "print(y_train.shape)\n",
    "\n",
    "## total not digit examples\n",
    "tot_nd_exmp = 6000\n",
    "\n",
    "## left over space to fill\n",
    "n_new_exmpls = tot_nd_exmp - n_letter_exmpls\n",
    "\n",
    "new_examples = []\n",
    "new_labels = ['10' for lb in range(0,n_new_exmpls)]\n",
    "\n",
    "for n in range(0,n_new_exmpls):\n",
    "    new_example = []\n",
    "    for ri in range(0,28):\n",
    "        new_row = []\n",
    "        for ci in range(0,28):\n",
    "            value = random.random()\n",
    "            ## Increase the likelyhood of having lines\n",
    "            if ci > 0 and new_row[ci-1] != 0 and random.random() > 0.85:\n",
    "                value = 0.99\n",
    "            value = (int(value * 255) + 1) if (value > 0.985) else 0\n",
    "            new_row.append(value)\n",
    "        new_example.append(new_row)\n",
    "    new_examples.append(new_example)\n",
    "\n",
    "X_train = np.append(X_train, new_examples, axis=0)\n",
    "y_train = np.append(y_train, new_labels, axis=0)\n",
    "\n",
    "print(\"\\nshape after\")\n",
    "print(X_train.shape)\n",
    "print(y_train.shape)\n",
    "\n",
    "plt.imshow(X_train[X_train.shape[0]-10])\n",
    "plt.title('Class '+ str(y_train[X_train.shape[0]-10]))"
   ]
  },
  {
   "cell_type": "markdown",
   "metadata": {},
   "source": [
    "## Shuffle the data again"
   ]
  },
  {
   "cell_type": "code",
   "execution_count": 28,
   "metadata": {},
   "outputs": [
    {
     "name": "stdout",
     "output_type": "stream",
     "text": [
      "10\n",
      "6\n"
     ]
    }
   ],
   "source": [
    "def unison_shuffled_copies(a, b):\n",
    "    assert a.shape[0] == b.shape[0]\n",
    "    p = np.random.permutation(a.shape[0])\n",
    "    return a[p], b[p]\n",
    "\n",
    "print(y_train[60999])\n",
    "\n",
    "X_train, y_train = unison_shuffled_copies(X_train, y_train)\n",
    "\n",
    "print(y_train[60999])"
   ]
  },
  {
   "cell_type": "markdown",
   "metadata": {},
   "source": [
    "## Normalize"
   ]
  },
  {
   "cell_type": "code",
   "execution_count": 29,
   "metadata": {
    "scrolled": false
   },
   "outputs": [
    {
     "name": "stdout",
     "output_type": "stream",
     "text": [
      "(66000, 28, 28, 1)\n",
      "1.0\n"
     ]
    }
   ],
   "source": [
    "X_train = X_train.reshape(X_train.shape[0], 28, 28, 1)\n",
    "X_test = X_test.reshape(X_test.shape[0], 28, 28, 1)\n",
    "\n",
    "X_train = X_train.astype('float32')\n",
    "X_test = X_test.astype('float32')\n",
    "\n",
    "X_train/=255\n",
    "X_test/=255\n",
    "\n",
    "print(X_train.shape)\n",
    "print(X_train[5].max())"
   ]
  },
  {
   "cell_type": "code",
   "execution_count": 30,
   "metadata": {},
   "outputs": [
    {
     "data": {
      "text/plain": [
       "('6',\n",
       " array([0., 0., 0., 0., 0., 0., 1., 0., 0., 0., 0.], dtype=float32),\n",
       " (11,))"
      ]
     },
     "execution_count": 30,
     "metadata": {},
     "output_type": "execute_result"
    }
   ],
   "source": [
    "number_of_classes = 11\n",
    "\n",
    "Y_train = to_categorical(y_train, number_of_classes)\n",
    "Y_test = to_categorical(y_test, number_of_classes)\n",
    "\n",
    "y_train[60999], Y_train[60999], Y_train[60999].shape "
   ]
  },
  {
   "cell_type": "markdown",
   "metadata": {},
   "source": [
    "## Data Generators"
   ]
  },
  {
   "cell_type": "code",
   "execution_count": 31,
   "metadata": {},
   "outputs": [],
   "source": [
    "## Add some variation in the examples with rotations and shifts and stuff\n",
    "batch_size = 64\n",
    "\n",
    "## Train generations\n",
    "gen = ImageDataGenerator(rotation_range=8,\n",
    "                         width_shift_range=0.08,\n",
    "                         shear_range=0.3,\n",
    "                         height_shift_range=0.08,\n",
    "                         zoom_range=0.08)\n",
    "train_generator = gen.flow(X_train, Y_train, batch_size=batch_size)\n",
    "\n",
    "\n",
    "## Test generations\n",
    "test_gen = ImageDataGenerator()\n",
    "test_generator = test_gen.flow(X_test, Y_test, batch_size=batch_size)"
   ]
  },
  {
   "cell_type": "markdown",
   "metadata": {},
   "source": [
    "## Model building"
   ]
  },
  {
   "cell_type": "code",
   "execution_count": 32,
   "metadata": {},
   "outputs": [],
   "source": [
    "model = Sequential()\n",
    "\n",
    "model.add(Conv2D(32, (3, 3),\n",
    "                 input_shape=(28,28,1),\n",
    "                 activation=\"relu\"))\n",
    "BatchNormalization(axis=-1)\n",
    "\n",
    "\n",
    "model.add(Conv2D(32, (3, 3), activation=\"relu\"))\n",
    "model.add(MaxPooling2D(pool_size=(2,2)))\n",
    "BatchNormalization(axis=-1)\n",
    "\n",
    "\n",
    "model.add(Conv2D(64,(3, 3), activation=\"relu\"))\n",
    "BatchNormalization(axis=-1)\n",
    "\n",
    "model.add(Conv2D(64, (3, 3), activation=\"relu\"))\n",
    "model.add(MaxPooling2D(pool_size=(2,2)))\n",
    "\n",
    "model.add(Flatten())\n",
    "\n",
    "# Fully connected layer for classifaction\n",
    "BatchNormalization()\n",
    "model.add(Dense(512, activation=\"relu\"))\n",
    "\n",
    "BatchNormalization()\n",
    "model.add(Dropout(0.2))\n",
    "model.add(Dense(11, activation=\"softmax\"))"
   ]
  },
  {
   "cell_type": "code",
   "execution_count": 33,
   "metadata": {},
   "outputs": [
    {
     "name": "stdout",
     "output_type": "stream",
     "text": [
      "Model: \"sequential_1\"\n",
      "_________________________________________________________________\n",
      "Layer (type)                 Output Shape              Param #   \n",
      "=================================================================\n",
      "conv2d_4 (Conv2D)            (None, 26, 26, 32)        320       \n",
      "_________________________________________________________________\n",
      "conv2d_5 (Conv2D)            (None, 24, 24, 32)        9248      \n",
      "_________________________________________________________________\n",
      "max_pooling2d_2 (MaxPooling2 (None, 12, 12, 32)        0         \n",
      "_________________________________________________________________\n",
      "conv2d_6 (Conv2D)            (None, 10, 10, 64)        18496     \n",
      "_________________________________________________________________\n",
      "conv2d_7 (Conv2D)            (None, 8, 8, 64)          36928     \n",
      "_________________________________________________________________\n",
      "max_pooling2d_3 (MaxPooling2 (None, 4, 4, 64)          0         \n",
      "_________________________________________________________________\n",
      "flatten_1 (Flatten)          (None, 1024)              0         \n",
      "_________________________________________________________________\n",
      "dense_2 (Dense)              (None, 512)               524800    \n",
      "_________________________________________________________________\n",
      "dropout_1 (Dropout)          (None, 512)               0         \n",
      "_________________________________________________________________\n",
      "dense_3 (Dense)              (None, 11)                5643      \n",
      "=================================================================\n",
      "Total params: 595,435\n",
      "Trainable params: 595,435\n",
      "Non-trainable params: 0\n",
      "_________________________________________________________________\n"
     ]
    }
   ],
   "source": [
    "model.summary()"
   ]
  },
  {
   "cell_type": "code",
   "execution_count": 34,
   "metadata": {},
   "outputs": [],
   "source": [
    "model.compile(\n",
    "    loss='categorical_crossentropy',\n",
    "    optimizer='adam',\n",
    "    metrics=['accuracy'])"
   ]
  },
  {
   "cell_type": "code",
   "execution_count": 36,
   "metadata": {},
   "outputs": [
    {
     "name": "stdout",
     "output_type": "stream",
     "text": [
      "Epoch 1/5\n",
      "1031/1031 [==============================] - 30s 30ms/step - loss: 0.2365 - accuracy: 0.9267 - val_loss: 0.0320 - val_accuracy: 0.9899\n",
      "Epoch 2/5\n",
      "1031/1031 [==============================] - 33s 32ms/step - loss: 0.0843 - accuracy: 0.9734 - val_loss: 0.0372 - val_accuracy: 0.9881\n",
      "Epoch 3/5\n",
      "1031/1031 [==============================] - 29s 28ms/step - loss: 0.0639 - accuracy: 0.9797 - val_loss: 0.0229 - val_accuracy: 0.9932\n",
      "Epoch 4/5\n",
      "1031/1031 [==============================] - 29s 28ms/step - loss: 0.0549 - accuracy: 0.9826 - val_loss: 0.0219 - val_accuracy: 0.9934\n",
      "Epoch 5/5\n",
      "1031/1031 [==============================] - 29s 28ms/step - loss: 0.0481 - accuracy: 0.9855 - val_loss: 0.0189 - val_accuracy: 0.9947\n"
     ]
    }
   ],
   "source": [
    "## Train model\n",
    "n_train_examples = X_train.shape[0]\n",
    "\n",
    "history = model.fit_generator(train_generator,\n",
    "                              steps_per_epoch=(n_train_examples)//batch_size,\n",
    "                              epochs=5,\n",
    "                              validation_data=test_generator,\n",
    "                              validation_steps=(n_train_examples)//batch_size\n",
    "                             )"
   ]
  },
  {
   "cell_type": "code",
   "execution_count": 37,
   "metadata": {},
   "outputs": [
    {
     "data": {
      "image/png": "[encoded data removed]",
      "text/plain": [
       "<Figure size 432x288 with 1 Axes>"
      ]
     },
     "metadata": {
      "needs_background": "light"
     },
     "output_type": "display_data"
    },
    {
     "data": {
      "image/png": "[encoded data removed]",
      "text/plain": [
       "<Figure size 432x288 with 1 Axes>"
      ]
     },
     "metadata": {
      "needs_background": "light"
     },
     "output_type": "display_data"
    }
   ],
   "source": [
    "acc = history.history['accuracy']\n",
    "val_acc = history.history['val_accuracy']\n",
    "\n",
    "loss = history.history['loss']\n",
    "val_loss = history.history['val_loss']\n",
    "\n",
    "epochs = range(1, len(acc) + 1)\n",
    "\n",
    "plt.figure()\n",
    "plt.plot(epochs, acc, \"bo\", label=\"Training accuracy\")\n",
    "plt.plot(epochs, val_acc, \"b\", label=\"Validation accuracy\")\n",
    "plt.title(\"Accuracy\")\n",
    "plt.legend()\n",
    "\n",
    "plt.figure()\n",
    "plt.plot(epochs, loss, \"bo\", label=\"Trainning loss\")\n",
    "plt.plot(epochs, val_loss, \"b\", Label=\"Validation loss\")\n",
    "plt.title(\"Loss\")\n",
    "plt.legend()\n",
    "\n",
    "plt.show()"
   ]
  },
  {
   "cell_type": "code",
   "execution_count": 38,
   "metadata": {},
   "outputs": [
    {
     "name": "stdout",
     "output_type": "stream",
     "text": [
      "10000/10000 [==============================] - 1s 90us/sample - loss: 0.0186 - accuracy: 0.9947\n",
      "Test accuracy:  0.9947\n"
     ]
    }
   ],
   "source": [
    "score = model.evaluate(X_test, Y_test)\n",
    "\n",
    "print('Test accuracy: ', score[1])"
   ]
  },
  {
   "cell_type": "code",
   "execution_count": 20,
   "metadata": {},
   "outputs": [
    {
     "data": {
      "text/plain": [
       "601672"
      ]
     },
     "execution_count": 20,
     "metadata": {},
     "output_type": "execute_result"
    }
   ],
   "source": [
    "quantize = 1\n",
    "pruned = 0\n",
    "if pruned:\n",
    "    stripped_pruned_model = sparsity.strip_pruning(model)\n",
    "    stripped_pruned_model.summary()\n",
    "    final_model = stripped_pruned_model\n",
    "else:\n",
    "    final_model = model\n",
    "\n",
    "converter = tf.lite.TFLiteConverter.from_keras_model(final_model)\n",
    "\n",
    "if quantize:\n",
    "    #converter.target_spec.supported_ops = [tf.lite.OpsSet.TFLITE_BUILTINS, tf.lite.OpsSet.SELECT_TF_OPS]\n",
    "    converter.optimizations = [tf.lite.Optimize.OPTIMIZE_FOR_SIZE]\n",
    "    file_name = \"mnist_plus_NotDigitClass_quantized\"\n",
    "elif pruned:\n",
    "    file_name = \"mnist_plus_NotDigitClass_pruned\"\n",
    "else:\n",
    "    file_name = \"mnist_plus_NotDigitClass\"\n",
    "    \n",
    "    \n",
    "tflite_model = converter.convert()\n",
    "\n",
    "open(\"Models_tflite/\" + file_name + \".tflite\", \"wb\").write(tflite_model)"
   ]
  },
  {
   "cell_type": "markdown",
   "metadata": {},
   "source": [
    "## Used for debuging"
   ]
  },
  {
   "cell_type": "code",
   "execution_count": 44,
   "metadata": {},
   "outputs": [
    {
     "name": "stdout",
     "output_type": "stream",
     "text": [
      "(18, 28, 1)\n",
      "(18, 28)\n"
     ]
    },
    {
     "data": {
      "text/plain": [
       "<matplotlib.image.AxesImage at 0x7fafc486e2e8>"
      ]
     },
     "execution_count": 44,
     "metadata": {},
     "output_type": "execute_result"
    },
    {
     "data": {
      "image/png": "[encoded data removed]",
      "text/plain": [
       "<Figure size 432x288 with 1 Axes>"
      ]
     },
     "metadata": {
      "needs_background": "light"
     },
     "output_type": "display_data"
    }
   ],
   "source": [
    "## this was taken from the app\n",
    "testinput = [[[0.0], [0.0], [0.0], [0.0], [0.0], [0.0], [0.0], [0.0], [0.0], [0.0], [0.0], [0.0], [0.0], [0.0], [0.0], [0.0], [0.0], [0.0], [0.0], [0.0], [0.0], [0.0], [0.0], [0.0], [0.0], [0.0], [0.0], [0.0]], [[0.0], [0.0], [0.0], [0.0], [0.0], [0.0], [0.0], [0.0], [0.0], [0.0], [0.0], [0.0], [0.0], [0.0], [0.0], [0.0], [0.0], [0.0], [0.0], [0.0], [0.0], [0.0], [0.0], [0.0], [0.0], [0.0], [0.0], [0.0]], [[0.0], [0.0], [0.0], [0.0], [0.0], [0.0], [0.0], [0.0], [0.0], [0.0], [0.0], [0.0], [0.0], [0.0], [0.0], [0.0], [0.0], [0.0], [0.0], [0.0], [0.0], [0.0], [0.0], [0.0], [0.0], [0.0], [0.0], [0.0]], [[0.0], [0.0], [0.0], [0.0], [0.0], [0.0], [0.0], [0.0], [0.0], [0.0], [0.0], [0.0], [0.0], [0.0], [0.0], [0.0], [0.0], [0.0], [0.0], [0.0], [0.0], [0.0], [0.0], [0.0], [0.0], [0.0], [0.0], [0.0]], [[0.0], [0.0], [0.0], [0.0], [0.0], [0.0], [0.0], [0.0], [0.0], [0.0], [0.0], [0.0], [0.0], [0.0], [0.0], [0.0], [0.0], [0.0], [0.0], [0.0], [0.0], [0.0], [0.0], [0.0], [0.0], [0.0], [0.0], [0.0]], [[0.0], [0.0], [0.0], [0.0], [0.0], [0.0], [0.0], [0.0], [0.0], [0.007843138], [0.039215688], [0.007843138], [0.0], [0.0], [0.0], [0.007843138], [0.023529412], [0.08627451], [0.37254903], [0.4509804], [0.015686275], [0.0], [0.0], [0.0], [0.0], [0.0], [0.0], [0.0]], [[0.0], [0.0], [0.0], [0.0], [0.0], [0.0], [0.0], [0.0], [0.0], [0.5254902], [1.0], [1.0], [0.5568628], [0.58431375], [0.9372549], [1.0], [1.0], [1.0], [1.0], [1.0], [0.10980392], [0.0], [0.0], [0.0], [0.0], [0.0], [0.0], [0.0]], [[0.0], [0.0], [0.0], [0.0], [0.0], [0.0], [0.0], [0.0], [0.0], [0.7058824], [1.0], [1.0], [1.0], [1.0], [1.0], [1.0], [1.0], [1.0], [1.0], [0.39607844], [0.007843138], [0.0], [0.0], [0.0], [0.0], [0.0], [0.0], [0.0]], [[0.0], [0.0], [0.0], [0.0], [0.0], [0.0], [0.0], [0.0], [0.003921569], [1.0], [1.0], [0.41960785], [0.62352943], [0.61960787], [0.3529412], [0.24313726], [0.18039216], [0.07058824], [0.015686275], [0.0], [0.0], [0.0], [0.0], [0.0], [0.0], [0.0], [0.0], [0.0]], [[0.0], [0.0], [0.0], [0.0], [0.0], [0.0], [0.0], [0.0], [0.003921569], [1.0], [1.0], [0.10980392], [0.0], [0.0], [0.0], [0.0], [0.0], [0.0], [0.0], [0.0], [0.0], [0.0], [0.0], [0.0], [0.0], [0.0], [0.0], [0.0]], [[0.0], [0.0], [0.0], [0.0], [0.0], [0.0], [0.0], [0.0], [0.03529412], [1.0], [1.0], [0.043137256], [0.0], [0.0], [0.0], [0.0], [0.0], [0.0], [0.0], [0.0], [0.0], [0.0], [0.0], [0.0], [0.0], [0.0], [0.0], [0.0]], [[0.0], [0.0], [0.0], [0.0], [0.0], [0.0], [0.0], [0.0], [0.16862746], [1.0], [1.0], [0.007843138], [0.0], [0.0], [0.0], [0.0], [0.0], [0.0], [0.0], [0.0], [0.0], [0.0], [0.0], [0.0], [0.0], [0.0], [0.0], [0.0]], [[0.0], [0.0], [0.0], [0.0], [0.0], [0.0], [0.0], [0.0], [0.44313726], [1.0], [0.3764706], [0.05882353], [0.007843138], [0.0], [0.0], [0.0], [0.0], [0.0], [0.0], [0.0], [0.0], [0.0], [0.0], [0.0], [0.0], [0.0], [0.0], [0.0]], [[0.0], [0.0], [0.0], [0.0], [0.0], [0.0], [0.0], [0.019607844], [1.0], [1.0], [1.0], [1.0], [1.0], [0.101960786], [0.0], [0.0], [0.0], [0.0], [0.0], [0.0], [0.0], [0.0], [0.0], [0.0], [0.0], [0.0], [0.0], [0.0]], [[0.0], [0.0], [0.0], [0.0], [0.0], [0.0], [0.0], [0.015686275], [1.0], [1.0], [1.0], [1.0], [1.0], [1.0], [0.18431373], [0.0], [0.0], [0.0], [0.0], [0.0], [0.0], [0.0], [0.0], [0.0], [0.0], [0.0], [0.0], [0.0]], [[0.0], [0.0], [0.0], [0.0], [0.0], [0.0], [0.0], [0.0], [0.011764706], [0.03137255], [0.011764706], [0.047058824], [0.42745098], [1.0], [1.0], [0.14509805], [0.0], [0.0], [0.0], [0.0], [0.0], [0.0], [0.0], [0.0], [0.0], [0.0], [0.0], [0.0]], [[0.0], [0.0], [0.0], [0.0], [0.0], [0.0], [0.0], [0.0], [0.0], [0.0], [0.0], [0.0], [0.007843138], [0.3882353], [1.0], [1.0], [0.03529412], [0.0], [0.0], [0.0], [0.0], [0.0], [0.0], [0.0], [0.0], [0.0], [0.0], [0.0]], [[0.0], [0.0], [0.0], [0.0], [0.0], [0.0], [0.0], [0.0], [0.0], [0.0], [0.0], [0.0], [0.0], [0.015686275], [1.0], [1.0], [0.31764707], [0.0], [0.0], [0.0], [0.0], [0.0], [0.0], [0.0], [0.0], [0.0], [0.0], [0.0]]]\n",
    "testinput = np.array(testinput)\n",
    "print(testinput.shape)\n",
    "testinput = testinput.reshape( 18, 28)\n",
    "print(testinput.shape)\n",
    "plt.imshow(testinput)"
   ]
  },
  {
   "cell_type": "code",
   "execution_count": 45,
   "metadata": {},
   "outputs": [
    {
     "name": "stdout",
     "output_type": "stream",
     "text": [
      "[0.0, 0.0, 0.0, 0.0, 0.0, 0.0, 1.0, 0.0, 0.0, 0.0, 0.0]\n",
      "arrayOf(arrayOf(arrayOf(floatArrayOf(0.0f), floatArrayOf(0.0f), floatArrayOf(0.0f), floatArrayOf(0.0f), floatArrayOf(0.0f), floatArrayOf(0.0f), floatArrayOf(0.0f), floatArrayOf(0.0f), floatArrayOf(0.0f), floatArrayOf(0.0f), floatArrayOf(0.0f), floatArrayOf(0.0f), floatArrayOf(0.0f), floatArrayOf(0.0f), floatArrayOf(0.0f), floatArrayOf(0.0f), floatArrayOf(0.0f), floatArrayOf(0.0f), floatArrayOf(0.0f), floatArrayOf(0.0f), floatArrayOf(0.0f), floatArrayOf(0.0f), floatArrayOf(0.0f), floatArrayOf(0.0f), floatArrayOf(0.0f), floatArrayOf(0.0f), floatArrayOf(0.0f), floatArrayOf(0.0f)), arrayOf(floatArrayOf(0.0f), floatArrayOf(0.0f), floatArrayOf(0.0f), floatArrayOf(0.0f), floatArrayOf(0.0f), floatArrayOf(0.0f), floatArrayOf(0.0f), floatArrayOf(0.0f), floatArrayOf(0.0f), floatArrayOf(0.0f), floatArrayOf(0.0f), floatArrayOf(0.0f), floatArrayOf(0.0f), floatArrayOf(0.0f), floatArrayOf(0.0f), floatArrayOf(0.0f), floatArrayOf(0.0f), floatArrayOf(0.0f), floatArrayOf(0.0f), floatArrayOf(0.0f), floatArrayOf(0.0f), floatArrayOf(0.0f), floatArrayOf(0.0f), floatArrayOf(0.0f), floatArrayOf(0.0f), floatArrayOf(0.0f), floatArrayOf(0.0f), floatArrayOf(0.0f)), arrayOf(floatArrayOf(0.0f), floatArrayOf(0.0f), floatArrayOf(0.0f), floatArrayOf(0.0f), floatArrayOf(0.0f), floatArrayOf(0.0f), floatArrayOf(0.0f), floatArrayOf(0.0f), floatArrayOf(0.0f), floatArrayOf(0.0f), floatArrayOf(0.0f), floatArrayOf(0.0f), floatArrayOf(0.0f), floatArrayOf(0.0f), floatArrayOf(0.0f), floatArrayOf(0.0f), floatArrayOf(0.0f), floatArrayOf(0.0f), floatArrayOf(0.0f), floatArrayOf(0.0f), floatArrayOf(0.0f), floatArrayOf(0.0f), floatArrayOf(0.0f), floatArrayOf(0.0f), floatArrayOf(0.0f), floatArrayOf(0.0f), floatArrayOf(0.0f), floatArrayOf(0.0f)), arrayOf(floatArrayOf(0.0f), floatArrayOf(0.0f), floatArrayOf(0.0f), floatArrayOf(0.0f), floatArrayOf(0.0f), floatArrayOf(0.0f), floatArrayOf(0.0f), floatArrayOf(0.0f), floatArrayOf(0.0f), floatArrayOf(0.0627451f), floatArrayOf(0.80784315f), floatArrayOf(0.8509804f), floatArrayOf(0.0f), floatArrayOf(0.0f), floatArrayOf(0.0f), floatArrayOf(0.0f), floatArrayOf(0.0f), floatArrayOf(0.0f), floatArrayOf(0.0f), floatArrayOf(0.0f), floatArrayOf(0.0f), floatArrayOf(0.0f), floatArrayOf(0.0f), floatArrayOf(0.0f), floatArrayOf(0.0f), floatArrayOf(0.0f), floatArrayOf(0.0f), floatArrayOf(0.0f)), arrayOf(floatArrayOf(0.0f), floatArrayOf(0.0f), floatArrayOf(0.0f), floatArrayOf(0.0f), floatArrayOf(0.0f), floatArrayOf(0.0f), floatArrayOf(0.0f), floatArrayOf(0.0f), floatArrayOf(0.06666667f), floatArrayOf(0.8039216f), floatArrayOf(0.99215686f), floatArrayOf(0.84705883f), floatArrayOf(0.0f), floatArrayOf(0.0f), floatArrayOf(0.0f), floatArrayOf(0.0f), floatArrayOf(0.0f), floatArrayOf(0.0f), floatArrayOf(0.0f), floatArrayOf(0.0f), floatArrayOf(0.0f), floatArrayOf(0.0f), floatArrayOf(0.0f), floatArrayOf(0.0f), floatArrayOf(0.0f), floatArrayOf(0.0f), floatArrayOf(0.0f), floatArrayOf(0.0f)), arrayOf(floatArrayOf(0.0f), floatArrayOf(0.0f), floatArrayOf(0.0f), floatArrayOf(0.0f), floatArrayOf(0.0f), floatArrayOf(0.0f), floatArrayOf(0.0f), floatArrayOf(0.06666667f), floatArrayOf(0.8039216f), floatArrayOf(0.99215686f), floatArrayOf(0.9843137f), floatArrayOf(0.54509807f), floatArrayOf(0.0f), floatArrayOf(0.0f), floatArrayOf(0.0f), floatArrayOf(0.0f), floatArrayOf(0.0f), floatArrayOf(0.0f), floatArrayOf(0.0f), floatArrayOf(0.0f), floatArrayOf(0.0f), floatArrayOf(0.0f), floatArrayOf(0.0f), floatArrayOf(0.0f), floatArrayOf(0.0f), floatArrayOf(0.0f), floatArrayOf(0.0f), floatArrayOf(0.0f)), arrayOf(floatArrayOf(0.0f), floatArrayOf(0.0f), floatArrayOf(0.0f), floatArrayOf(0.0f), floatArrayOf(0.0f), floatArrayOf(0.0f), floatArrayOf(0.0f), floatArrayOf(0.53333336f), floatArrayOf(0.99215686f), floatArrayOf(0.99215686f), floatArrayOf(0.58431375f), floatArrayOf(0.0f), floatArrayOf(0.0f), floatArrayOf(0.0f), floatArrayOf(0.0f), floatArrayOf(0.0f), floatArrayOf(0.0f), floatArrayOf(0.0f), floatArrayOf(0.0f), floatArrayOf(0.0f), floatArrayOf(0.0f), floatArrayOf(0.0f), floatArrayOf(0.0f), floatArrayOf(0.0f), floatArrayOf(0.0f), floatArrayOf(0.0f), floatArrayOf(0.0f), floatArrayOf(0.0f)), arrayOf(floatArrayOf(0.0f), floatArrayOf(0.0f), floatArrayOf(0.0f), floatArrayOf(0.0f), floatArrayOf(0.0f), floatArrayOf(0.0f), floatArrayOf(0.078431375f), floatArrayOf(0.8156863f), floatArrayOf(0.99215686f), floatArrayOf(0.93333334f), floatArrayOf(0.15294118f), floatArrayOf(0.0f), floatArrayOf(0.0f), floatArrayOf(0.0f), floatArrayOf(0.0f), floatArrayOf(0.0f), floatArrayOf(0.0f), floatArrayOf(0.0f), floatArrayOf(0.0f), floatArrayOf(0.0f), floatArrayOf(0.0f), floatArrayOf(0.0f), floatArrayOf(0.0f), floatArrayOf(0.0f), floatArrayOf(0.0f), floatArrayOf(0.0f), floatArrayOf(0.0f), floatArrayOf(0.0f)), arrayOf(floatArrayOf(0.0f), floatArrayOf(0.0f), floatArrayOf(0.0f), floatArrayOf(0.0f), floatArrayOf(0.0f), floatArrayOf(0.0f), floatArrayOf(0.81960785f), floatArrayOf(0.99215686f), floatArrayOf(0.99215686f), floatArrayOf(0.58431375f), floatArrayOf(0.0f), floatArrayOf(0.0f), floatArrayOf(0.0f), floatArrayOf(0.0f), floatArrayOf(0.0f), floatArrayOf(0.0f), floatArrayOf(0.0f), floatArrayOf(0.0f), floatArrayOf(0.0f), floatArrayOf(0.0f), floatArrayOf(0.0f), floatArrayOf(0.0f), floatArrayOf(0.0f), floatArrayOf(0.0f), floatArrayOf(0.0f), floatArrayOf(0.0f), floatArrayOf(0.0f), floatArrayOf(0.0f)), arrayOf(floatArrayOf(0.0f), floatArrayOf(0.0f), floatArrayOf(0.0f), floatArrayOf(0.0f), floatArrayOf(0.0f), floatArrayOf(0.0f), floatArrayOf(0.99607843f), floatArrayOf(0.99215686f), floatArrayOf(0.94509804f), floatArrayOf(0.14117648f), floatArrayOf(0.0f), floatArrayOf(0.0f), floatArrayOf(0.0f), floatArrayOf(0.0f), floatArrayOf(0.0f), floatArrayOf(0.0f), floatArrayOf(0.0f), floatArrayOf(0.0f), floatArrayOf(0.0f), floatArrayOf(0.0f), floatArrayOf(0.0f), floatArrayOf(0.0f), floatArrayOf(0.0f), floatArrayOf(0.0f), floatArrayOf(0.0f), floatArrayOf(0.0f), floatArrayOf(0.0f), floatArrayOf(0.0f)), arrayOf(floatArrayOf(0.0f), floatArrayOf(0.0f), floatArrayOf(0.0f), floatArrayOf(0.0f), floatArrayOf(0.0f), floatArrayOf(0.0f), floatArrayOf(1.0f), floatArrayOf(0.99215686f), floatArrayOf(0.92156863f), floatArrayOf(0.0f), floatArrayOf(0.0f), floatArrayOf(0.0f), floatArrayOf(0.0f), floatArrayOf(0.0f), floatArrayOf(0.0f), floatArrayOf(0.0f), floatArrayOf(0.14901961f), floatArrayOf(0.19607843f), floatArrayOf(0.19607843f), floatArrayOf(0.19607843f), floatArrayOf(0.19607843f), floatArrayOf(0.19607843f), floatArrayOf(0.019607844f), floatArrayOf(0.0f), floatArrayOf(0.0f), floatArrayOf(0.0f), floatArrayOf(0.0f), floatArrayOf(0.0f)), arrayOf(floatArrayOf(0.0f), floatArrayOf(0.0f), floatArrayOf(0.0f), floatArrayOf(0.0f), floatArrayOf(0.0f), floatArrayOf(0.0f), floatArrayOf(0.99607843f), floatArrayOf(0.99215686f), floatArrayOf(0.92156863f), floatArrayOf(0.0f), floatArrayOf(0.0f), floatArrayOf(0.0f), floatArrayOf(0.0f), floatArrayOf(0.0f), floatArrayOf(0.26666668f), floatArrayOf(0.7058824f), floatArrayOf(0.9254902f), floatArrayOf(0.99215686f), floatArrayOf(0.99215686f), floatArrayOf(0.99215686f), floatArrayOf(0.99215686f), floatArrayOf(0.99215686f), floatArrayOf(0.73333335f), floatArrayOf(0.49411765f), floatArrayOf(0.11764706f), floatArrayOf(0.0f), floatArrayOf(0.0f), floatArrayOf(0.0f)), arrayOf(floatArrayOf(0.0f), floatArrayOf(0.0f), floatArrayOf(0.0f), floatArrayOf(0.0f), floatArrayOf(0.0f), floatArrayOf(0.0f), floatArrayOf(0.99607843f), floatArrayOf(0.99215686f), floatArrayOf(0.92156863f), floatArrayOf(0.0f), floatArrayOf(0.0f), floatArrayOf(0.0f), floatArrayOf(0.0f), floatArrayOf(0.050980393f), floatArrayOf(0.7764706f), floatArrayOf(0.99215686f), floatArrayOf(0.99215686f), floatArrayOf(0.8f), floatArrayOf(0.7490196f), floatArrayOf(0.5803922f), floatArrayOf(0.5019608f), floatArrayOf(0.6901961f), floatArrayOf(0.96862745f), floatArrayOf(0.99215686f), floatArrayOf(0.87058824f), floatArrayOf(0.49411765f), floatArrayOf(0.0f), floatArrayOf(0.0f)), arrayOf(floatArrayOf(0.0f), floatArrayOf(0.0f), floatArrayOf(0.0f), floatArrayOf(0.0f), floatArrayOf(0.0f), floatArrayOf(0.0f), floatArrayOf(0.99607843f), floatArrayOf(0.99215686f), floatArrayOf(0.54901963f), floatArrayOf(0.0f), floatArrayOf(0.0f), floatArrayOf(0.0f), floatArrayOf(0.0f), floatArrayOf(0.5647059f), floatArrayOf(0.99215686f), floatArrayOf(0.99215686f), floatArrayOf(0.65882355f), floatArrayOf(0.05490196f), floatArrayOf(0.0f), floatArrayOf(0.0f), floatArrayOf(0.0f), floatArrayOf(0.0f), floatArrayOf(0.42352942f), floatArrayOf(0.84313726f), floatArrayOf(0.99215686f), floatArrayOf(0.99215686f), floatArrayOf(0.0f), floatArrayOf(0.0f)), arrayOf(floatArrayOf(0.0f), floatArrayOf(0.0f), floatArrayOf(0.0f), floatArrayOf(0.0f), floatArrayOf(0.0f), floatArrayOf(0.0f), floatArrayOf(0.99607843f), floatArrayOf(0.99215686f), floatArrayOf(0.8156863f), floatArrayOf(0.0f), floatArrayOf(0.0f), floatArrayOf(0.0f), floatArrayOf(0.0f), floatArrayOf(0.68235296f), floatArrayOf(0.99215686f), floatArrayOf(0.99215686f), floatArrayOf(0.23921569f), floatArrayOf(0.0f), floatArrayOf(0.0f), floatArrayOf(0.0f), floatArrayOf(0.0f), floatArrayOf(0.0f), floatArrayOf(0.0f), floatArrayOf(0.4392157f), floatArrayOf(0.99215686f), floatArrayOf(0.99215686f), floatArrayOf(0.0f), floatArrayOf(0.0f)), arrayOf(floatArrayOf(0.0f), floatArrayOf(0.0f), floatArrayOf(0.0f), floatArrayOf(0.0f), floatArrayOf(0.0f), floatArrayOf(0.0f), floatArrayOf(0.99607843f), floatArrayOf(0.99215686f), floatArrayOf(0.92156863f), floatArrayOf(0.0f), floatArrayOf(0.0f), floatArrayOf(0.0f), floatArrayOf(0.0f), floatArrayOf(0.68235296f), floatArrayOf(0.99215686f), floatArrayOf(0.99215686f), floatArrayOf(0.23921569f), floatArrayOf(0.0f), floatArrayOf(0.0f), floatArrayOf(0.0f), floatArrayOf(0.0f), floatArrayOf(0.0f), floatArrayOf(0.0f), floatArrayOf(0.4392157f), floatArrayOf(0.99215686f), floatArrayOf(0.8392157f), floatArrayOf(0.0f), floatArrayOf(0.0f)), arrayOf(floatArrayOf(0.0f), floatArrayOf(0.0f), floatArrayOf(0.0f), floatArrayOf(0.0f), floatArrayOf(0.0f), floatArrayOf(0.0f), floatArrayOf(0.99607843f), floatArrayOf(0.99215686f), floatArrayOf(0.94509804f), floatArrayOf(0.14117648f), floatArrayOf(0.0f), floatArrayOf(0.0f), floatArrayOf(0.0f), floatArrayOf(0.68235296f), floatArrayOf(0.99215686f), floatArrayOf(0.99215686f), floatArrayOf(0.6431373f), floatArrayOf(0.0f), floatArrayOf(0.0f), floatArrayOf(0.0f), floatArrayOf(0.0f), floatArrayOf(0.0f), floatArrayOf(0.0f), floatArrayOf(0.4392157f), floatArrayOf(0.99215686f), floatArrayOf(0.34117648f), floatArrayOf(0.0f), floatArrayOf(0.0f)), arrayOf(floatArrayOf(0.0f), floatArrayOf(0.0f), floatArrayOf(0.0f), floatArrayOf(0.0f), floatArrayOf(0.0f), floatArrayOf(0.0f), floatArrayOf(0.40392157f), floatArrayOf(0.99215686f), floatArrayOf(0.99215686f), floatArrayOf(0.9098039f), floatArrayOf(0.33333334f), floatArrayOf(0.0f), floatArrayOf(0.0f), floatArrayOf(0.09803922f), floatArrayOf(0.49019608f), floatArrayOf(0.8980392f), floatArrayOf(0.95686275f), floatArrayOf(0.70980394f), floatArrayOf(0.2509804f), floatArrayOf(0.0f), floatArrayOf(0.0f), floatArrayOf(0.0f), floatArrayOf(0.0f), floatArrayOf(0.6156863f), floatArrayOf(0.99215686f), floatArrayOf(0.4392157f), floatArrayOf(0.0f), floatArrayOf(0.0f)), arrayOf(floatArrayOf(0.0f), floatArrayOf(0.0f), floatArrayOf(0.0f), floatArrayOf(0.0f), floatArrayOf(0.0f), floatArrayOf(0.0f), floatArrayOf(0.015686275f), floatArrayOf(0.8117647f), floatArrayOf(0.99215686f), floatArrayOf(0.99215686f), floatArrayOf(0.8156863f), floatArrayOf(0.0f), floatArrayOf(0.0f), floatArrayOf(0.0f), floatArrayOf(0.0f), floatArrayOf(0.44705883f), floatArrayOf(0.8980392f), floatArrayOf(0.99215686f), floatArrayOf(0.95686275f), floatArrayOf(0.34117648f), floatArrayOf(0.0f), floatArrayOf(0.0f), floatArrayOf(0.16470589f), floatArrayOf(0.9529412f), floatArrayOf(0.99215686f), floatArrayOf(0.31764707f), floatArrayOf(0.0f), floatArrayOf(0.0f)), arrayOf(floatArrayOf(0.0f), floatArrayOf(0.0f), floatArrayOf(0.0f), floatArrayOf(0.0f), floatArrayOf(0.0f), floatArrayOf(0.0f), floatArrayOf(0.0f), floatArrayOf(0.09803922f), floatArrayOf(0.99215686f), floatArrayOf(0.99215686f), floatArrayOf(0.98039216f), floatArrayOf(0.5882353f), floatArrayOf(0.14117648f), floatArrayOf(0.0f), floatArrayOf(0.0f), floatArrayOf(0.0f), floatArrayOf(0.20392157f), floatArrayOf(0.5803922f), floatArrayOf(0.70980394f), floatArrayOf(0.9607843f), floatArrayOf(0.72156864f), floatArrayOf(0.41568628f), floatArrayOf(0.89411765f), floatArrayOf(0.99215686f), floatArrayOf(0.37254903f), floatArrayOf(0.003921569f), floatArrayOf(0.0f), floatArrayOf(0.0f)), arrayOf(floatArrayOf(0.0f), floatArrayOf(0.0f), floatArrayOf(0.0f), floatArrayOf(0.0f), floatArrayOf(0.0f), floatArrayOf(0.0f), floatArrayOf(0.0f), floatArrayOf(0.003921569f), floatArrayOf(0.34509805f), floatArrayOf(0.8117647f), floatArrayOf(0.99215686f), floatArrayOf(0.99215686f), floatArrayOf(0.9490196f), floatArrayOf(0.827451f), floatArrayOf(0.4392157f), floatArrayOf(0.4392157f), floatArrayOf(0.4392157f), floatArrayOf(0.4392157f), floatArrayOf(0.4627451f), floatArrayOf(0.6745098f), floatArrayOf(0.99215686f), floatArrayOf(0.99215686f), floatArrayOf(0.8117647f), floatArrayOf(0.101960786f), floatArrayOf(0.003921569f), floatArrayOf(0.0f), floatArrayOf(0.0f), floatArrayOf(0.0f)), arrayOf(floatArrayOf(0.0f), floatArrayOf(0.0f), floatArrayOf(0.0f), floatArrayOf(0.0f), floatArrayOf(0.0f), floatArrayOf(0.0f), floatArrayOf(0.0f), floatArrayOf(0.0f), floatArrayOf(0.0f), floatArrayOf(0.3137255f), floatArrayOf(0.5294118f), floatArrayOf(0.8235294f), floatArrayOf(0.99215686f), floatArrayOf(0.99215686f), floatArrayOf(0.99215686f), floatArrayOf(0.99215686f), floatArrayOf(0.99215686f), floatArrayOf(0.99215686f), floatArrayOf(0.99215686f), floatArrayOf(0.8352941f), floatArrayOf(0.5294118f), floatArrayOf(0.34117648f), floatArrayOf(0.02745098f), floatArrayOf(0.0f), floatArrayOf(0.0f), floatArrayOf(0.0f), floatArrayOf(0.0f), floatArrayOf(0.0f)), arrayOf(floatArrayOf(0.0f), floatArrayOf(0.0f), floatArrayOf(0.0f), floatArrayOf(0.0f), floatArrayOf(0.0f), floatArrayOf(0.0f), floatArrayOf(0.0f), floatArrayOf(0.0f), floatArrayOf(0.0f), floatArrayOf(0.0f), floatArrayOf(0.0f), floatArrayOf(0.015686275f), floatArrayOf(0.105882354f), floatArrayOf(0.5058824f), floatArrayOf(0.5058824f), floatArrayOf(0.5058824f), floatArrayOf(0.5058824f), floatArrayOf(0.5058824f), floatArrayOf(0.5058824f), floatArrayOf(0.09803922f), floatArrayOf(0.0f), floatArrayOf(0.0f), floatArrayOf(0.0f), floatArrayOf(0.0f), floatArrayOf(0.0f), floatArrayOf(0.0f), floatArrayOf(0.0f), floatArrayOf(0.0f)), arrayOf(floatArrayOf(0.0f), floatArrayOf(0.0f), floatArrayOf(0.0f), floatArrayOf(0.0f), floatArrayOf(0.0f), floatArrayOf(0.0f), floatArrayOf(0.0f), floatArrayOf(0.0f), floatArrayOf(0.0f), floatArrayOf(0.0f), floatArrayOf(0.0f), floatArrayOf(0.0f), floatArrayOf(0.0f), floatArrayOf(0.0f), floatArrayOf(0.0f), floatArrayOf(0.0f), floatArrayOf(0.0f), floatArrayOf(0.0f), floatArrayOf(0.0f), floatArrayOf(0.0f), floatArrayOf(0.0f), floatArrayOf(0.0f), floatArrayOf(0.0f), floatArrayOf(0.0f), floatArrayOf(0.0f), floatArrayOf(0.0f), floatArrayOf(0.0f), floatArrayOf(0.0f)), arrayOf(floatArrayOf(0.0f), floatArrayOf(0.0f), floatArrayOf(0.0f), floatArrayOf(0.0f), floatArrayOf(0.0f), floatArrayOf(0.0f), floatArrayOf(0.0f), floatArrayOf(0.0f), floatArrayOf(0.0f), floatArrayOf(0.0f), floatArrayOf(0.0f), floatArrayOf(0.0f), floatArrayOf(0.0f), floatArrayOf(0.0f), floatArrayOf(0.0f), floatArrayOf(0.0f), floatArrayOf(0.0f), floatArrayOf(0.0f), floatArrayOf(0.0f), floatArrayOf(0.0f), floatArrayOf(0.0f), floatArrayOf(0.0f), floatArrayOf(0.0f), floatArrayOf(0.0f), floatArrayOf(0.0f), floatArrayOf(0.0f), floatArrayOf(0.0f), floatArrayOf(0.0f)), arrayOf(floatArrayOf(0.0f), floatArrayOf(0.0f), floatArrayOf(0.0f), floatArrayOf(0.0f), floatArrayOf(0.0f), floatArrayOf(0.0f), floatArrayOf(0.0f), floatArrayOf(0.0f), floatArrayOf(0.0f), floatArrayOf(0.0f), floatArrayOf(0.0f), floatArrayOf(0.0f), floatArrayOf(0.0f), floatArrayOf(0.0f), floatArrayOf(0.0f), floatArrayOf(0.0f), floatArrayOf(0.0f), floatArrayOf(0.0f), floatArrayOf(0.0f), floatArrayOf(0.0f), floatArrayOf(0.0f), floatArrayOf(0.0f), floatArrayOf(0.0f), floatArrayOf(0.0f), floatArrayOf(0.0f), floatArrayOf(0.0f), floatArrayOf(0.0f), floatArrayOf(0.0f)), arrayOf(floatArrayOf(0.0f), floatArrayOf(0.0f), floatArrayOf(0.0f), floatArrayOf(0.0f), floatArrayOf(0.0f), floatArrayOf(0.0f), floatArrayOf(0.0f), floatArrayOf(0.0f), floatArrayOf(0.0f), floatArrayOf(0.0f), floatArrayOf(0.0f), floatArrayOf(0.0f), floatArrayOf(0.0f), floatArrayOf(0.0f), floatArrayOf(0.0f), floatArrayOf(0.0f), floatArrayOf(0.0f), floatArrayOf(0.0f), floatArrayOf(0.0f), floatArrayOf(0.0f), floatArrayOf(0.0f), floatArrayOf(0.0f), floatArrayOf(0.0f), floatArrayOf(0.0f), floatArrayOf(0.0f), floatArrayOf(0.0f), floatArrayOf(0.0f), floatArrayOf(0.0f)), arrayOf(floatArrayOf(0.0f), floatArrayOf(0.0f), floatArrayOf(0.0f), floatArrayOf(0.0f), floatArrayOf(0.0f), floatArrayOf(0.0f), floatArrayOf(0.0f), floatArrayOf(0.0f), floatArrayOf(0.0f), floatArrayOf(0.0f), floatArrayOf(0.0f), floatArrayOf(0.0f), floatArrayOf(0.0f), floatArrayOf(0.0f), floatArrayOf(0.0f), floatArrayOf(0.0f), floatArrayOf(0.0f), floatArrayOf(0.0f), floatArrayOf(0.0f), floatArrayOf(0.0f), floatArrayOf(0.0f), floatArrayOf(0.0f), floatArrayOf(0.0f), floatArrayOf(0.0f), floatArrayOf(0.0f), floatArrayOf(0.0f), floatArrayOf(0.0f), floatArrayOf(0.0f)), ))\n"
     ]
    }
   ],
   "source": [
    "## outputs a value from the data in a Kotlin format to input in the app\n",
    "## to help in debugging\n",
    "print(Y_test[54].tolist())\n",
    "#print(X_test[5][0].tolist())\n",
    "test_string = \"arrayOf(arrayOf(\"\n",
    "for x in X_test[54]:\n",
    "    test_string = test_string + \"arrayOf(\"\n",
    "    for i,y in enumerate(x):\n",
    "        test_string = test_string + \"floatArrayOf(\" + str(y[0]) + \"f)\"\n",
    "        if i != 27:\n",
    "            test_string = test_string + \", \"\n",
    "    test_string = test_string + \"), \"\n",
    "test_string = test_string + \"))\"\n",
    "open(\"Models_tflite/testvalues.txt\", \"wb\").write(test_string.encode())\n",
    "print(test_string)"
   ]
  },
  {
   "cell_type": "code",
   "execution_count": null,
   "metadata": {},
   "outputs": [],
   "source": []
  }
 ],
 "metadata": {
  "anaconda-cloud": {},
  "kernelspec": {
   "display_name": "Python 3",
   "language": "python",
   "name": "python3"
  },
  "language_info": {
   "codemirror_mode": {
    "name": "ipython",
    "version": 3
   },
   "file_extension": ".py",
   "mimetype": "text/x-python",
   "name": "python",
   "nbconvert_exporter": "python",
   "pygments_lexer": "ipython3",
   "version": "3.7.3"
  },
  "widgets": {
   "application/vnd.jupyter.widget-state+json": {
    "state": {},
    "version_major": 2,
    "version_minor": 0
   }
  }
 },
 "nbformat": 4,
 "nbformat_minor": 1
}
